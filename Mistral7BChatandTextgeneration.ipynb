{
  "cells": [
    {
      "cell_type": "code",
      "source": [
        "# example for Azure end point for Mistral instruction model (chat) model with 7 B with rest api\n",
        "import urllib.request\n",
        "import json\n",
        "import os\n",
        "import ssl\n",
        "\n",
        "def allowSelfSignedHttps(allowed):\n",
        "    # bypass the server certificate verification on client side\n",
        "    if allowed and not os.environ.get('PYTHONHTTPSVERIFY', '') and getattr(ssl, '_create_unverified_context', None):\n",
        "        ssl._create_default_https_context = ssl._create_unverified_context\n",
        "\n",
        "allowSelfSignedHttps(True) # this line is needed if you use self-signed certificate in your scoring service.\n",
        "\n",
        "# Request data goes here\n",
        "# The example below assumes JSON formatting which may be updated\n",
        "# depending on the format your endpoint expects.\n",
        "# More information can be found here:\n",
        "# https://docs.microsoft.com/azure/machine-learning/how-to-deploy-advanced-entry-script\n",
        "data = {\n",
        "    \"input_data\": {\n",
        "        \"input_string\": [\n",
        "            {\n",
        "                \"role\": \"user\",\n",
        "                \"content\": \"I am going to Paris, what should I see?\"\n",
        "            },\n",
        "            {\n",
        "                \"role\": \"assistant\",\n",
        "                \"content\": \"Paris, the capital of France, is known for its stunning architecture, art museums, historical landmarks, and romantic atmosphere. Here are some of the top attractions to see in Paris:\\n\\n1. The Eiffel Tower: The iconic Eiffel Tower is one of the most recognizable landmarks in the world and offers breathtaking views of the city.\\n2. The Louvre Museum: The Louvre is one of the world's largest and most famous museums, housing an impressive collection of art and artifacts, including the Mona Lisa.\\n3. Notre-Dame Cathedral: This beautiful cathedral is one of the most famous landmarks in Paris and is known for its Gothic architecture and stunning stained glass windows.\\n\\nThese are just a few of the many attractions that Paris has to offer. With so much to see and do, it's no wonder that Paris is one of the most popular tourist destinations in the world.\"\n",
        "            },\n",
        "            {\n",
        "                \"role\": \"user\",\n",
        "                \"content\": \"What is so great about #2?\"\n",
        "            }\n",
        "        ],\n",
        "        \"parameters\": {\n",
        "            \"temperature\": 0.6,\n",
        "            \"top_p\": 0.9,\n",
        "            \"do_sample\": \"true\",\n",
        "            \"max_new_tokens\": 200,\n",
        "            \"return_full_text\": \"false\"\n",
        "        }\n",
        "    }\n",
        "}\n",
        "\n",
        "\n",
        "\n",
        "body = str.encode(json.dumps(data))\n",
        "print(body)\n",
        "\n",
        "url = 'https://mistraendpoint.westus3.inference.ml.azure.com/score'\n",
        "# Replace this with the primary/secondary key or AMLToken for the endpoint\n",
        "api_key = 'xxxxx'\n",
        "if not api_key:\n",
        "    raise Exception(\"A key should be provided to invoke the endpoint\")\n",
        "\n",
        "# The azureml-model-deployment header will force the request to go to a specific deployment.\n",
        "# Remove this header to have the request observe the endpoint traffic rules\n",
        "headers = {'Content-Type':'application/json', 'Authorization':('Bearer '+ api_key), 'azureml-model-deployment': 'mistralai-mistral-7b-instruct-4' }\n",
        "\n",
        "req = urllib.request.Request(url, body, headers)\n",
        "\n",
        "try:\n",
        "    response = urllib.request.urlopen(req)\n",
        "\n",
        "    result = response.read()\n",
        "    print(result)\n",
        "except urllib.error.HTTPError as error:\n",
        "    print(\"The request failed with status code: \" + str(error.code))\n",
        "\n",
        "    # Print the headers - they include the requert ID and the timestamp, which are useful for debugging the failure\n",
        "    print(error.info())\n",
        "    print(error.read().decode(\"utf8\", 'ignore'))\n"
      ],
      "outputs": [
        {
          "output_type": "stream",
          "name": "stdout",
          "text": "b'{\"input_data\": {\"input_string\": [{\"role\": \"user\", \"content\": \"I am going to Paris, what should I see?\"}, {\"role\": \"assistant\", \"content\": \"Paris, the capital of France, is known for its stunning architecture, art museums, historical landmarks, and romantic atmosphere. Here are some of the top attractions to see in Paris:\\\\n\\\\n1. The Eiffel Tower: The iconic Eiffel Tower is one of the most recognizable landmarks in the world and offers breathtaking views of the city.\\\\n2. The Louvre Museum: The Louvre is one of the world\\'s largest and most famous museums, housing an impressive collection of art and artifacts, including the Mona Lisa.\\\\n3. Notre-Dame Cathedral: This beautiful cathedral is one of the most famous landmarks in Paris and is known for its Gothic architecture and stunning stained glass windows.\\\\n\\\\nThese are just a few of the many attractions that Paris has to offer. With so much to see and do, it\\'s no wonder that Paris is one of the most popular tourist destinations in the world.\"}, {\"role\": \"user\", \"content\": \"What is so great about #2?\"}], \"parameters\": {\"temperature\": 0.6, \"top_p\": 0.9, \"do_sample\": \"true\", \"max_new_tokens\": 200, \"return_full_text\": \"false\"}}}'\nb'{\"output\": \"The Louvre Museum in Paris is one of the world\\'s most famous and respected art museums, and there are several reasons why it is considered so great.\\\\n\\\\nFirst, the Louvre\\'s collection is vast and diverse, featuring works of art from many different cultures and time periods. This includes ancient Egyptian, Greek, and Roman artifacts, as well as works of art from the Middle Ages, Renaissance, and beyond.\\\\n\\\\nSecond, the Louvre is home to some of the most famous works of art in the world, including the Mona Lisa, the Winged Victory of Samothrace, and the Venus de Milo. These masterpieces are considered true works of art and are highly prized by art lovers and scholars alike.\\\\n\\\\nThird, the Louvre\\'s architecture is also a major attraction. The museum\\'s main building, the Palais des Tuileries, is a stunning example of French Renaissance architecture\"}'\n"
        }
      ],
      "execution_count": 12,
      "metadata": {
        "gather": {
          "logged": 1706644777437
        }
      }
    },
    {
      "cell_type": "code",
      "source": [
        "# example for Azure end point for Mistral text generation model model with 7 B with ML client API\n",
        "from azure.ai.ml import MLClient\n",
        "from azure.identity import (\n",
        "    DefaultAzureCredential,\n",
        "    InteractiveBrowserCredential,\n",
        "    ClientSecretCredential,\n",
        ")\n",
        "from azure.ai.ml.entities import AmlCompute\n",
        "import time\n",
        "\n",
        "try:\n",
        "    credential = DefaultAzureCredential()\n",
        "    credential.get_token(\"https://management.azure.com/.default\")\n",
        "except Exception as ex:\n",
        "    credential = InteractiveBrowserCredential()\n",
        "\n",
        "workspace_ml_client = MLClient(\n",
        "    credential,\n",
        "    subscription_id=\"xxxxx\",\n",
        "    resource_group_name=\"xxxxx\",\n",
        "    workspace_name=\"xxxx\",\n",
        ")\n",
        "# the models, fine tuning pipelines and environments are available in the AzureML system registry, \"azureml\"\n",
        "registry_ml_client = MLClient(credential, registry_name=\"azureml\")"
      ],
      "outputs": [],
      "execution_count": 11,
      "metadata": {
        "jupyter": {
          "source_hidden": false,
          "outputs_hidden": false
        },
        "nteract": {
          "transient": {
            "deleting": false
          }
        },
        "gather": {
          "logged": 1706651641100
        }
      }
    },
    {
      "cell_type": "code",
      "source": [
        "import pandas as pd\n",
        "# score the sample_score.json file using the online endpoint with the azureml endpoint invoke method\n",
        "response = workspace_ml_client.online_endpoints.invoke(\n",
        "    endpoint_name='text-generation-oss-1706647790',\n",
        "    deployment_name=\"demo\",\n",
        "    request_file=\"sample.json\",\n",
        ")\n",
        "print(\"raw response: \\n\", response, \"\\n\")\n",
        "# convert the json response to a pandas dataframe\n",
        "response_df = pd.read_json(response)\n",
        "response_df.head()"
      ],
      "outputs": [
        {
          "output_type": "stream",
          "name": "stdout",
          "text": "raw response: \n [{\"0\": \"?\\n\\nNangpa La ( allegedly 18, 229 ft/ 5,557 m) between China and Nepal is a high mountain pass, not a peak as such. The word Nangpa means \\u2018wild yaks country\\u2019 as there were said to be many wild yaks around here once upon a time. The other side of the pass is Tashi Lapcha. Both passes are traversed by Sherpas going for trade between Nep\"}] \n\n"
        },
        {
          "output_type": "execute_result",
          "execution_count": 12,
          "data": {
            "text/plain": "                                                   0\n0  ?\\n\\nNangpa La ( allegedly 18, 229 ft/ 5,557 m...",
            "text/html": "<div>\n<style scoped>\n    .dataframe tbody tr th:only-of-type {\n        vertical-align: middle;\n    }\n\n    .dataframe tbody tr th {\n        vertical-align: top;\n    }\n\n    .dataframe thead th {\n        text-align: right;\n    }\n</style>\n<table border=\"1\" class=\"dataframe\">\n  <thead>\n    <tr style=\"text-align: right;\">\n      <th></th>\n      <th>0</th>\n    </tr>\n  </thead>\n  <tbody>\n    <tr>\n      <th>0</th>\n      <td>?\\n\\nNangpa La ( allegedly 18, 229 ft/ 5,557 m...</td>\n    </tr>\n  </tbody>\n</table>\n</div>"
          },
          "metadata": {}
        }
      ],
      "execution_count": 12,
      "metadata": {
        "jupyter": {
          "source_hidden": false,
          "outputs_hidden": false
        },
        "nteract": {
          "transient": {
            "deleting": false
          }
        },
        "gather": {
          "logged": 1706651647020
        }
      }
    },
    {
      "cell_type": "code",
      "source": [
        "\n"
      ],
      "outputs": [],
      "execution_count": null,
      "metadata": {
        "jupyter": {
          "source_hidden": false,
          "outputs_hidden": false
        },
        "nteract": {
          "transient": {
            "deleting": false
          }
        }
      }
    }
  ],
  "metadata": {
    "kernelspec": {
      "name": "python310-sdkv2",
      "language": "python",
      "display_name": "Python 3.10 - SDK v2"
    },
    "language_info": {
      "name": "python",
      "version": "3.10.11",
      "mimetype": "text/x-python",
      "codemirror_mode": {
        "name": "ipython",
        "version": 3
      },
      "pygments_lexer": "ipython3",
      "nbconvert_exporter": "python",
      "file_extension": ".py"
    },
    "microsoft": {
      "ms_spell_check": {
        "ms_spell_check_language": "en"
      },
      "host": {
        "AzureML": {
          "notebookHasBeenCompleted": true
        }
      }
    },
    "kernel_info": {
      "name": "python310-sdkv2"
    },
    "nteract": {
      "version": "nteract-front-end@1.0.0"
    }
  },
  "nbformat": 4,
  "nbformat_minor": 2
}